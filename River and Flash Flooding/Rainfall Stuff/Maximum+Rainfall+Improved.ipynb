{
 "cells": [
  {
   "cell_type": "code",
   "execution_count": 1,
   "metadata": {
    "collapsed": true
   },
   "outputs": [],
   "source": [
    "import pandas as pd \n",
    "import glob\n",
    "import os\n",
    "\n",
    "path = r'C:\\Users\\Ty Dickinson\\Documents\\Hollings Code Output Excels\\Max Precip'\n",
    "all_files = glob.glob(os.path.join(path, \"*.csv\"))\n",
    "\n",
    "Table = pd.concat((pd.read_csv(f, usecols=range(1,9)) for f in all_files))\n",
    "Table = Table.sort_index(axis=0)\n",
    "\n",
    "Winter1Day = []\n",
    "Spring1Day = []\n",
    "Summer1Day = []\n",
    "Fall1Day = []\n",
    "Winter2Day = []\n",
    "Spring2Day = []\n",
    "Summer2Day = []\n",
    "Fall2Day = []\n",
    "\n",
    "x=0\n",
    "while x<=36:\n",
    "    table = Table.loc[x:x]\n",
    "    Winter1Day.insert(x, max(table['Winter 1 Day Precip']))\n",
    "    Spring1Day.insert(x, max(table['Spring 1 Day Precip']))\n",
    "    Summer1Day.insert(x, max(table['Summer 1 Day Precip']))\n",
    "    Fall1Day.insert(x, max(table['Fall 1 Day Precip']))\n",
    "    Winter2Day.insert(x, max(table['Winter 2 Day Precip']))\n",
    "    Spring2Day.insert(x, max(table['Spring 2 Day Precip']))\n",
    "    Summer2Day.insert(x, max(table['Summer 2 Day Precip']))\n",
    "    Fall2Day.insert(x, max(table['Fall 2 Day Precip']))\n",
    "    x +=1\n",
    "    \n",
    "df1 = pd.DataFrame({'Winter 1 Day Max':Winter1Day})\n",
    "df2 = pd.DataFrame({'Spring 1 Day Max':Spring1Day})\n",
    "df3 = pd.DataFrame({'Summer 1 Day Max':Summer1Day})\n",
    "df4 = pd.DataFrame({'Fall 1 Day Max':Fall1Day})\n",
    "df5 = pd.DataFrame({'Winter 2 Day Max':Winter2Day})\n",
    "df6 = pd.DataFrame({'Spring 2 Day Max':Spring2Day})\n",
    "df7 = pd.DataFrame({'Summer 2 Day Max':Summer2Day})\n",
    "df8 = pd.DataFrame({'Fall 2 Day Max':Fall2Day})\n",
    "dftot = pd.concat([df1, df2, df3, df4, df5, df6, df7, df8],\n",
    "                 axis=1)\n",
    "#dftot.to_csv('Maximum Rainfall.csv')"
   ]
  },
  {
   "cell_type": "code",
   "execution_count": null,
   "metadata": {
    "collapsed": true
   },
   "outputs": [],
   "source": []
  }
 ],
 "metadata": {
  "kernelspec": {
   "display_name": "Python 2",
   "language": "python",
   "name": "python2"
  },
  "language_info": {
   "codemirror_mode": {
    "name": "ipython",
    "version": 2
   },
   "file_extension": ".py",
   "mimetype": "text/x-python",
   "name": "python",
   "nbconvert_exporter": "python",
   "pygments_lexer": "ipython2",
   "version": "2.7.13"
  }
 },
 "nbformat": 4,
 "nbformat_minor": 2
}
