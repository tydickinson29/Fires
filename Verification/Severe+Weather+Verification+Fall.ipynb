{
 "cells": [
  {
   "cell_type": "code",
   "execution_count": 20,
   "metadata": {},
   "outputs": [
    {
     "name": "stdout",
     "output_type": "stream",
     "text": [
      "How many total reports were there? 2\n",
      " The closest value in the index is 2 in 2003\n",
      "The associated rank is 27.0\n"
     ]
    }
   ],
   "source": [
    "import pandas as pd\n",
    "\n",
    "#The next three lines read in the full index with values and ranks\n",
    "#and converts the column to a list, which is easier to closely examine\n",
    "#BE SURE TO CHANGE THE DIRECTORY PATH AND SPECIFY WHICH 3 MONTH PERIOD YOU'RE VERIFYING\n",
    "Table = pd.read_csv('C:\\Users\\Ty Dickinson\\Downloads\\SONSevereImpacts.csv')\n",
    "TotalReports = Table['SON Reports']\n",
    "TotalReports = [int(x) for x in TotalReports] #converts items to integers and into a list\n",
    "\n",
    "#This block gets user input for the individual indicator\n",
    "print \"How many total reports were there? \",\n",
    "while True:\n",
    "    try:\n",
    "        Reports = int(raw_input()) #user input part\n",
    "    except ValueError:\n",
    "        #error raised because input could not be converted to an integer\n",
    "        #prints error statement, continue forces while statement to restart\n",
    "        print \"Input must be an integer\" \n",
    "        continue\n",
    "    else:\n",
    "        #input is good, breaks the while statement\n",
    "        break\n",
    "\n",
    "#lambda is a small function in python that terminates after use\n",
    "#i.e., it's the same as defining a function but is more concise\n",
    "#and is good for doing arithmetic expressions\n",
    "#it will find the closest associated value in the list by subtracting each\n",
    "#value in the list, doing absolute value, and outputting the smallest number \n",
    "#after subtraction\n",
    "ClosestValue = min(TotalReports, key=lambda x:abs(x-Reports))\n",
    "\n",
    "#Location will then be where in the TotalReports list that closest number occurs\n",
    "Location = TotalReports.index(ClosestValue)\n",
    "\n",
    "#Outputting the rank and year is as simple as taking the location of the \n",
    "#closest value and going to that spot in the table columns\n",
    "Year = Table.Year[Location]\n",
    "ReportsRank = Table.Reports[Location]\n",
    "\n",
    "print 'The closest value in the index is', ClosestValue, 'in', Year\n",
    "print 'The associated rank is', ReportsRank"
   ]
  },
  {
   "cell_type": "code",
   "execution_count": 21,
   "metadata": {},
   "outputs": [
    {
     "name": "stdout",
     "output_type": "stream",
     "text": [
      "What were the number of report days? 2\n",
      " The closest value in the index is 2 in 1998\n",
      "The associated rank is 25.5\n"
     ]
    }
   ],
   "source": [
    "ReportDaysList = Table['SON Report Days'].tolist()\n",
    "ReportDaysList = [int(x) for x in ReportDaysList]\n",
    "\n",
    "print \"What were the number of report days? \",\n",
    "while True:\n",
    "    try:\n",
    "        ReportDays = int(raw_input())\n",
    "    except ValueError:\n",
    "        print \"Input must be an integer\"\n",
    "        continue\n",
    "    else:\n",
    "        break\n",
    "        \n",
    "ClosestValue = min(ReportDaysList, key=lambda x:abs(x-ReportDays))\n",
    "Location = ReportDaysList.index(ClosestValue)\n",
    "Year = Table.Year[Location] #will always be the first occurrance of an indicator\n",
    "ReportDaysRank = Table.Days[Location]\n",
    "\n",
    "print 'The closest value in the index is', ClosestValue, 'in', Year\n",
    "print 'The associated rank is', ReportDaysRank"
   ]
  },
  {
   "cell_type": "code",
   "execution_count": 22,
   "metadata": {},
   "outputs": [
    {
     "name": "stdout",
     "output_type": "stream",
     "text": [
      "What was the total tornado path length, in miles? 0\n",
      " The closest value in the index is 0.0 in 1982\n",
      "The associated rank is 24.0\n"
     ]
    }
   ],
   "source": [
    "TornadoPath = Table['SON Tornado Track']\n",
    "TornadoPath = [float(x) for x in TornadoPath]\n",
    "\n",
    "print \"What was the total tornado path length, in miles? \",\n",
    "while True:\n",
    "    try:\n",
    "        TornadoTrack = float(raw_input())\n",
    "    except ValueError:\n",
    "        print \"Input must be a number\"\n",
    "        continue\n",
    "    else:\n",
    "        break\n",
    "        \n",
    "ClosestValue = min(TornadoPath, key=lambda x:abs(x-TornadoTrack))\n",
    "Location = TornadoPath.index(ClosestValue)\n",
    "Year = Table.Year[Location] #will always be the first occurrance of an indicator\n",
    "TornadoPathRank = Table.Track[Location]\n",
    "\n",
    "print 'The closest value in the index is', ClosestValue, 'in', Year\n",
    "print 'The associated rank is', TornadoPathRank"
   ]
  },
  {
   "cell_type": "code",
   "execution_count": 23,
   "metadata": {},
   "outputs": [
    {
     "name": "stdout",
     "output_type": "stream",
     "text": [
      "What was the blend of fatalities and injuries? 1\n",
      " The closest value in the index is 1.09 in 1988\n",
      "The associated rank is 1\n"
     ]
    }
   ],
   "source": [
    "Fatalities = Table.Blend\n",
    "Fatalities = [float(x) for x in Fatalities]\n",
    "\n",
    "print \"What was the blend of fatalities and injuries? \",\n",
    "while True:\n",
    "    try:\n",
    "        Blend = float(raw_input())\n",
    "    except ValueError:\n",
    "        print \"Input must be a number\"\n",
    "        continue\n",
    "    else:\n",
    "        break\n",
    "        \n",
    "ClosestValue = min(Fatalities, key=lambda x:abs(x-Blend))\n",
    "Location = Fatalities.index(ClosestValue)\n",
    "Year = Table.Year[Location] #will always be the first occurrance of an indicator\n",
    "FatalitiesRank = Table.Fatalities[Location]\n",
    "\n",
    "print 'The closest value in the index is', ClosestValue, 'in', Year\n",
    "print 'The associated rank is', FatalitiesRank"
   ]
  },
  {
   "cell_type": "code",
   "execution_count": 24,
   "metadata": {},
   "outputs": [
    {
     "name": "stdout",
     "output_type": "stream",
     "text": [
      "What was the total amount in damages, adjusted to 2010 levels? 90537.47\n",
      " The closest value in the index is 82777.56 in 2003\n",
      "The associated rank is 24\n"
     ]
    }
   ],
   "source": [
    "Damages = Table.PythonAdjusted\n",
    "Damages = [float(x) for x in Damages]\n",
    "\n",
    "print \"What was the total amount in damages, adjusted to 2010 levels? \",\n",
    "while True:\n",
    "    try:\n",
    "        AdjustedDamages = float(raw_input())\n",
    "    except ValueError:\n",
    "        print \"Input must be a number\"\n",
    "        continue\n",
    "    else:\n",
    "        break\n",
    "        \n",
    "ClosestValue = min(Damages, key=lambda x:abs(x-AdjustedDamages))\n",
    "Location = Damages.index(ClosestValue)\n",
    "Year = Table.Year[Location] #will always be the first occurrance of an indicator\n",
    "DamagesRank = Table.Damages[Location]\n",
    "\n",
    "print 'The closest value in the index is', ClosestValue, 'in', Year\n",
    "print 'The associated rank is', DamagesRank"
   ]
  },
  {
   "cell_type": "code",
   "execution_count": 25,
   "metadata": {},
   "outputs": [
    {
     "name": "stdout",
     "output_type": "stream",
     "text": [
      "What was the largest tornado width, in yards? 0\n",
      " The closest value in the index is 0 in 1982\n",
      "The associated rank is 24.0\n"
     ]
    }
   ],
   "source": [
    "TornadoWidthList = Table['SON Widest Tornado']\n",
    "TornadoWidthList = [int(x) for x in TornadoWidthList]\n",
    "\n",
    "print \"What was the largest tornado width, in yards? \",\n",
    "while True:\n",
    "    try:\n",
    "        TornadoWidth = int(raw_input())\n",
    "    except ValueError:\n",
    "        print \"Input must be an integer\"\n",
    "        continue\n",
    "    else:\n",
    "        break\n",
    "        \n",
    "ClosestValue = min(TornadoWidthList, key=lambda x:abs(x-TornadoWidth))\n",
    "Location = TornadoWidthList.index(ClosestValue)\n",
    "Year = Table.Year[Location] #will always be the first occurrance of an indicator\n",
    "TornadoWidthRank = Table.Width[Location]\n",
    "\n",
    "print 'The closest value in the index is', ClosestValue, 'in', Year\n",
    "print 'The associated rank is', TornadoWidthRank"
   ]
  },
  {
   "cell_type": "code",
   "execution_count": 26,
   "metadata": {},
   "outputs": [
    {
     "name": "stdout",
     "output_type": "stream",
     "text": [
      "What was the largest hail size? 0\n",
      " The closest value in the index is 0.0 in 1981\n",
      "The associated rank is 26.0\n"
     ]
    }
   ],
   "source": [
    "LargestHail = Table['SON Largest Hail']\n",
    "LargestHail = [float(x) for x in LargestHail]\n",
    "\n",
    "print \"What was the largest hail size? \",\n",
    "while True:\n",
    "    try:\n",
    "        Hail = float(raw_input())\n",
    "    except ValueError:\n",
    "        print \"Input must be a number\"\n",
    "        continue\n",
    "    else:\n",
    "        break\n",
    "        \n",
    "ClosestValue = min(LargestHail, key=lambda x:abs(x-Hail))\n",
    "Location = LargestHail.index(ClosestValue)\n",
    "Year = Table.Year[Location] #will always be the first occurrance of an indicator\n",
    "LargestHailRank = Table.Hail[Location]\n",
    "\n",
    "print 'The closest value in the index is', ClosestValue, 'in', Year\n",
    "print 'The associated rank is', LargestHailRank"
   ]
  },
  {
   "cell_type": "code",
   "execution_count": 27,
   "metadata": {},
   "outputs": [
    {
     "name": "stdout",
     "output_type": "stream",
     "text": [
      "What was the strongest non-tornadic wind magnitude? 0\n",
      " The closest value in the index is 0 in 1999\n",
      "The associated rank is 29.0\n"
     ]
    }
   ],
   "source": [
    "StrongestWind = Table['SON Strongest Wind']\n",
    "StrongestWind = [int(x) for x in StrongestWind]\n",
    "\n",
    "print \"What was the strongest non-tornadic wind magnitude? \",\n",
    "while True:\n",
    "    try:\n",
    "        Wind = int(raw_input())\n",
    "    except ValueError:\n",
    "        print \"Input must be an integer\"\n",
    "        continue\n",
    "    else:\n",
    "        break\n",
    "        \n",
    "ClosestValue = min(StrongestWind, key=lambda x:abs(x-Wind))\n",
    "Location = StrongestWind.index(ClosestValue)\n",
    "Year = Table.Year[Location] #will always be the first occurrance of an indicator\n",
    "StrongestWindRank = Table.Wind[Location]\n",
    "\n",
    "print 'The closest value in the index is', ClosestValue, 'in', Year\n",
    "print 'The associated rank is', StrongestWindRank"
   ]
  },
  {
   "cell_type": "code",
   "execution_count": 28,
   "metadata": {},
   "outputs": [
    {
     "name": "stdout",
     "output_type": "stream",
     "text": [
      "The closest value in the index is 176.5 in 1985\n",
      "The associated rank is 26.0\n",
      "The Index Score is 59.5\n"
     ]
    }
   ],
   "source": [
    "OverallList = [ReportsRank, ReportDaysRank, TornadoPathRank, \n",
    "              FatalitiesRank, DamagesRank, TornadoWidthRank,\n",
    "              LargestHailRank, StrongestWindRank]\n",
    "OverallSum = sum(OverallList)\n",
    "IndexScore = abs(OverallSum - 240)\n",
    "\n",
    "Sums = Table.Sum\n",
    "Sums = [float(x) for x in Sums]\n",
    "\n",
    "ClosestValue = min(Sums, key=lambda x:abs(x-OverallSum))\n",
    "Location = Sums.index(ClosestValue)\n",
    "Year = Table.Year[Location]\n",
    "OverallRank = Table.Rank[Location]\n",
    "\n",
    "print 'The closest value in the index is', ClosestValue, 'in', Year\n",
    "print 'The associated rank is', OverallRank\n",
    "print 'The sum of the indicators is', OverallSum\n",
    "print 'The Index Score is', IndexScore"
   ]
  },
  {
   "cell_type": "code",
   "execution_count": 29,
   "metadata": {
    "collapsed": true
   },
   "outputs": [],
   "source": [
    "#To see how many times an indicator occurred in the index, do\n",
    "#listName.count(value)"
   ]
  },
  {
   "cell_type": "code",
   "execution_count": null,
   "metadata": {
    "collapsed": true
   },
   "outputs": [],
   "source": []
  }
 ],
 "metadata": {
  "kernelspec": {
   "display_name": "Python 2",
   "language": "python",
   "name": "python2"
  },
  "language_info": {
   "codemirror_mode": {
    "name": "ipython",
    "version": 2
   },
   "file_extension": ".py",
   "mimetype": "text/x-python",
   "name": "python",
   "nbconvert_exporter": "python",
   "pygments_lexer": "ipython2",
   "version": "2.7.13"
  }
 },
 "nbformat": 4,
 "nbformat_minor": 2
}
